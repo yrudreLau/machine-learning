{
 "cells": [
  {
   "cell_type": "markdown",
   "metadata": {},
   "source": [
    "## Information Entropy _ Decision Tree"
   ]
  },
  {
   "cell_type": "code",
   "execution_count": 1,
   "metadata": {},
   "outputs": [],
   "source": [
    "import numpy as np\n",
    "import pandas as pd\n",
    "import matplotlib.pyplot as plt\n",
    "import operator\n",
    "import json\n",
    "from pylab import *\n",
    "\n",
    "% matplotlib inline"
   ]
  },
  {
   "cell_type": "code",
   "execution_count": 2,
   "metadata": {},
   "outputs": [],
   "source": [
    "data = pd.read_csv('watermelon3_0.csv')\n",
    "\n",
    "D = np.array(data)\n",
    "\n",
    "X = D[:, :-3]\n",
    "y = D[:, -1].reshape([17,1])\n",
    "\n",
    "dataSet = np.hstack((X, y)).tolist()"
   ]
  },
  {
   "cell_type": "markdown",
   "metadata": {},
   "source": [
    "### Information entropy: $$Ent(D) = -\\sum\\limits_{k=1}^{|y|}p_klog_2p_k$$\n",
    "\n",
    "### Information gain: $$Gain(D,a)=Ent(D)-\\sum\\limits_{v=1}^{V}\\frac{|D^v|}{|D|}Ent(D^v)$$"
   ]
  },
  {
   "cell_type": "code",
   "execution_count": 6,
   "metadata": {},
   "outputs": [],
   "source": [
    "def InformationEntropy(dataSet):\n",
    "    Sample_Num = len(dataSet) ##count number of samples\n",
    "    \n",
    "    ## create a dict to record sample class and sample number of each class\n",
    "    Sample_Class = {} \n",
    "    for datum in dataSet:\n",
    "        Sample_Lablel = datum[-1]\n",
    "        if Sample_Lablel not in Sample_Class.keys():\n",
    "            Sample_Class[Sample_Lablel] = 1\n",
    "        else:\n",
    "            Sample_Class[Sample_Lablel] += 1\n",
    "    \n",
    "    ## calculate information entropy\n",
    "    Ent_D = 0\n",
    "    for key in Sample_Class:\n",
    "        p_k = Sample_Class[key] / Sample_Num\n",
    "        Ent_D -= p_k*np.log2(p_k)\n",
    "        \n",
    "#     for j in range(len(data[0]) - 1):\n",
    "#         dataset.T[j]\n",
    "        \n",
    "    return Sample_Class, Ent_D"
   ]
  },
  {
   "cell_type": "code",
   "execution_count": 7,
   "metadata": {},
   "outputs": [],
   "source": [
    "## split dataset by attribute return subset of input attribute value\n",
    "def splitDataSet(dataSet, attri_index, attri_value):\n",
    "    retDataSet = []\n",
    "    featVec = []\n",
    "    for featVec in dataSet:\n",
    "        if featVec[attri_index] == attri_value:\n",
    "#             print(featVec)\n",
    "            reducedFeatVec = featVec[:attri_index]\n",
    "#             print(reducedFeatVec)\n",
    "            reducedFeatVec += featVec[attri_index + 1:]\n",
    "#             print(b)\n",
    "            retDataSet.append(reducedFeatVec)\n",
    "    return retDataSet"
   ]
  },
  {
   "cell_type": "code",
   "execution_count": 8,
   "metadata": {},
   "outputs": [],
   "source": [
    "## calculate optimal information Gain and choose optimal subset split mode\n",
    "def optimal_attributeIndex(dataSet):\n",
    "    ## get the attribute\n",
    "    attribute_Num = len(dataSet[0]) - 1\n",
    "    datasetInfEnt_D = InformationEntropy(dataSet)[-1]\n",
    "    \n",
    "    ## initialization\n",
    "    optimal_InfGain_Da = 0\n",
    "    optimal_attribute = -1\n",
    "    \n",
    "    ## calculate each attribute's information gain\n",
    "    for i in range(attribute_Num):\n",
    "        data_attribute = [data_attri[i] for data_attri in dataSet]\n",
    "        data_values = set(data_attribute)\n",
    "        attributeEntropy = 0\n",
    "        for value in data_values:\n",
    "            subDataSet = splitDataSet(dataSet, i, value)\n",
    "            p_k = len(subDataSet) / float(len(dataSet))\n",
    "            attributeEntropy += p_k * InformationEntropy(subDataSet)[-1]\n",
    "        InfGain_Da = datasetInfEnt_D - attributeEntropy\n",
    "#         print(InfGain_Da)\n",
    "        if (InfGain_Da > optimal_InfGain_Da): ## choose optimal attribute\n",
    "            optimal_InfGain_Da = InfGain_Da\n",
    "            optimal_attribute = i\n",
    "            \n",
    "    return optimal_attribute"
   ]
  },
  {
   "cell_type": "markdown",
   "metadata": {},
   "source": [
    "###### If the current node just have one attribute value, but the sample classes are different, set the current node as leaf node, and set the major sample class as its class."
   ]
  },
  {
   "cell_type": "code",
   "execution_count": 9,
   "metadata": {},
   "outputs": [],
   "source": [
    "## return the major sample class by sorting\n",
    "def majorSampleClass(ClassList):\n",
    "    ClassCount = {}\n",
    "    for datum in ClassList:\n",
    "#         print(datum)\n",
    "        if datum not in ClassCount.keys():\n",
    "            ClassCount[datum] = 1\n",
    "        else:\n",
    "            ClassCount[datum] += 1\n",
    "    sortedClassCount = sorted(ClassCount.items(), key = operator.itemgetter(1), reverse = True)\n",
    "    \n",
    "    return sortedClassCount[0][0]"
   ]
  },
  {
   "cell_type": "code",
   "execution_count": 10,
   "metadata": {},
   "outputs": [],
   "source": [
    "## define decision tree recursive function\n",
    "def DecisionTreeRecursive(dataSet, attributes):\n",
    "    ClassList = [datum[-1] for datum in dataSet]\n",
    "    if ClassList.count(ClassList[0]) == len(ClassList): ## if there is only one class, return, else return major class\n",
    "        return ClassList[0]\n",
    "    if len(dataSet[0]) == 1:\n",
    "        return majorSampleClass(ClassList)\n",
    "    optimal_attri = optimal_attributeIndex(dataSet) ## get index of optimal attribute \n",
    "    optimal_attriLabel = attributes[optimal_attri]\n",
    "    Deci_Tree = {optimal_attriLabel:{}}\n",
    "    del (attributes[optimal_attri]) ## delete attribute already chosen\n",
    "    attributeValues = [datum[optimal_attri] for datum in dataSet]\n",
    "    for value in attributeValues:\n",
    "        subLabels = attributes[:]\n",
    "        Deci_Tree[optimal_attriLabel][value] = DecisionTreeRecursive(\n",
    "            splitDataSet(dataSet, optimal_attri, value), subLabels)\n",
    "        \n",
    "    return Deci_Tree"
   ]
  },
  {
   "cell_type": "code",
   "execution_count": 11,
   "metadata": {},
   "outputs": [],
   "source": [
    "attributes = data.columns[:-3].tolist()"
   ]
  },
  {
   "cell_type": "code",
   "execution_count": 12,
   "metadata": {},
   "outputs": [],
   "source": [
    "DecisionTree = DecisionTreeRecursive(dataSet, attributes)"
   ]
  },
  {
   "cell_type": "markdown",
   "metadata": {},
   "source": [
    "## plot decision tree"
   ]
  },
  {
   "cell_type": "code",
   "execution_count": 64,
   "metadata": {},
   "outputs": [],
   "source": [
    "## set the shape and style of decision nodes, leaf nodes and arrows\n",
    "DeciNode = dict(boxstyle = 'square, pad = 0.5', fc = '0.8')\n",
    "LeafNode = dict(boxstyle = 'round4, pad = 0.5', fc = '0.8')\n",
    "arrow_args = dict(arrowstyle = '<|-', connectionstyle=\"arc3\", shrinkA=0,\n",
    "                  shrinkB=16)\n",
    "mpl.rcParams['font.sans-serif'] = ['SimHei']"
   ]
  },
  {
   "cell_type": "code",
   "execution_count": 95,
   "metadata": {},
   "outputs": [],
   "source": [
    "def plotNode(Nodename, cenCoor, priorCoor, nodeType):  \n",
    "    '''\n",
    "    centerCoor: Node center coordinates\n",
    "    priorPt: Starting point coordinates\n",
    "    '''\n",
    "    createFig.ax1.annotate(Nodename, xy = priorCoor, \n",
    "                            xycoords = 'axes fraction', xytext = cenCoor, \n",
    "                            textcoords = 'axes fraction', va = 'center', \n",
    "                            ha = 'center', bbox = nodeType, arrowprops = arrow_args)## plot charaters"
   ]
  },
  {
   "cell_type": "markdown",
   "metadata": {},
   "source": [
    "##### We need to know the number of leaf nodes in order to determine the length of the X axis and the height of Y axis, and the floor number of decision tree."
   ]
  },
  {
   "cell_type": "code",
   "execution_count": 15,
   "metadata": {},
   "outputs": [],
   "source": [
    "def getLeafNum(Deci_Tree):\n",
    "    '''\n",
    "    Deci_Tree: dict, get by function DecisionTreeRecursive\n",
    "    return number of leaf nodes\n",
    "    '''\n",
    "    \n",
    "    ## initialization\n",
    "    Leaf_Num = 0\n",
    "    ## get the decision node\n",
    "    RootNode = list(Deci_Tree.keys())[0] ## get root node\n",
    "    BranchNodedict = Deci_Tree[RootNode] ## get the values of root node\n",
    "    for key in BranchNodedict.keys():\n",
    "        if type(BranchNodedict[key]).__name__ == 'dict': ## Determine whether the value is still a dictionary\n",
    "            Leaf_Num += getLeafNum(BranchNodedict[key])\n",
    "        else:\n",
    "            Leaf_Num += 1\n",
    "    \n",
    "    return Leaf_Num"
   ]
  },
  {
   "cell_type": "code",
   "execution_count": 101,
   "metadata": {},
   "outputs": [],
   "source": [
    "def getFloorNum(Deci_Tree):\n",
    "    \n",
    "    ## initialization\n",
    "    maxFloor = 0    \n",
    "#     currentFloor = 0\n",
    "    RootNode = list(Deci_Tree.keys())[0] ## get root node\n",
    "    BranchNodedict = Deci_Tree[RootNode] ## get the values of root node\n",
    "    for key in BranchNodedict.keys():\n",
    "        if type(BranchNodedict[key]).__name__ == 'dict': ## Determine whether the value is still a dictionary\n",
    "            currentFloor = 1 + getFloorNum(BranchNodedict[key])\n",
    "        else:\n",
    "            currentFloor = 1\n",
    "#             Leaf_Num = 1\n",
    "        \n",
    "        if currentFloor > maxFloor:\n",
    "            maxFloor = currentFloor\n",
    "            \n",
    "    return maxFloor"
   ]
  },
  {
   "cell_type": "code",
   "execution_count": 102,
   "metadata": {},
   "outputs": [],
   "source": [
    "## define plot text function\n",
    "def plotText(cenCoor, priorCoor, txtString):\n",
    "    txt_x = (priorCoor[0] + cenCoor[0]) / 2.0 # (priorCoor[0] - cenCoor[0]) / 2.0 + cenCoor[0] #\n",
    "    txt_y = (priorCoor[1] + cenCoor[1]) / 2.0 # (priorCoor[1] - cenCoor[1]) / 2.0 + cenCoor[1] #\n",
    "    createFig.ax1.text(txt_x, txt_y, txtString)"
   ]
  },
  {
   "cell_type": "code",
   "execution_count": 103,
   "metadata": {},
   "outputs": [],
   "source": [
    "def plotTree(Deci_Tree, priorCoor, nodeName):\n",
    "    LeafNum = getLeafNum(Deci_Tree)\n",
    "    Floor = getFloorNum(Deci_Tree)\n",
    "    RootNode = list(Deci_Tree.keys())[0]\n",
    "    cenCoor = (plotTree.xoff + (1.0 + float(LeafNum)) / 2.0 / plotTree.totalw,\n",
    "              plotTree.yoff)\n",
    "    plotText(cenCoor, priorCoor, nodeName)\n",
    "    plotNode(RootNode, cenCoor, priorCoor, DeciNode)\n",
    "    BranchNodeDict = Deci_Tree[RootNode]\n",
    "    plotTree.yoff = plotTree.yoff - 1.0 / plotTree.totalh\n",
    "    for key in BranchNodeDict.keys():\n",
    "        if type(BranchNodeDict[key]).__name__ == 'dict':\n",
    "            plotTree(BranchNodeDict[key], cenCoor, str(key))\n",
    "        else:\n",
    "            plotTree.xoff = plotTree.xoff + 1.0 / plotTree.totalw\n",
    "            plotNode(BranchNodeDict[key], (plotTree.xoff, plotTree.yoff), \n",
    "                     cenCoor, LeafNode)\n",
    "            plotText((plotTree.xoff, plotTree.yoff), cenCoor, str(key))\n",
    "    plotTree.yoff = plotTree.yoff + 1.0 / plotTree.totalh"
   ]
  },
  {
   "cell_type": "code",
   "execution_count": 104,
   "metadata": {},
   "outputs": [],
   "source": [
    "def createFig(DecisionTree):\n",
    "    fig = plt.figure(1, facecolor = 'white')\n",
    "    fig.clf() ## clear figure plot area\n",
    "    axprops = dict(xticks = [], yticks = [])\n",
    "    createFig.ax1 = plt.subplot(111, frameon = False, **axprops)\n",
    "    plotTree.totalw = float(getLeafNum(DecisionTree))\n",
    "    plotTree.totalh = float(getFloorNum(DecisionTree))\n",
    "    plotTree.xoff = -0.5 / plotTree.totalw\n",
    "    plotTree.yoff = 1.0\n",
    "    plotTree(DecisionTree, (0.5, 1.0), '')\n",
    "#     plt.savefig('DecisionTree.jpg')\n",
    "    plt.show()"
   ]
  },
  {
   "cell_type": "code",
   "execution_count": 105,
   "metadata": {},
   "outputs": [
    {
     "data": {
      "image/png": "[encoded data removed]",
      "text/plain": [
       "<matplotlib.figure.Figure at 0x1ebcecaed68>"
      ]
     },
     "metadata": {},
     "output_type": "display_data"
    }
   ],
   "source": [
    "createFig(DecisionTree)"
   ]
  }
 ],
 "metadata": {
  "kernelspec": {
   "display_name": "Python 3",
   "language": "python",
   "name": "python3"
  },
  "language_info": {
   "codemirror_mode": {
    "name": "ipython",
    "version": 3
   },
   "file_extension": ".py",
   "mimetype": "text/x-python",
   "name": "python",
   "nbconvert_exporter": "python",
   "pygments_lexer": "ipython3",
   "version": "3.6.4"
  }
 },
 "nbformat": 4,
 "nbformat_minor": 2
}
