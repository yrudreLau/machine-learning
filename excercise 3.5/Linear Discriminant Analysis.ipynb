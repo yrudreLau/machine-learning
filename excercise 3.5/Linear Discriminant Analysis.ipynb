{
 "cells": [
  {
   "cell_type": "markdown",
   "metadata": {},
   "source": [
    "## Linear Discriminant Analysis with dataset watermelon 3$\\alpha$."
   ]
  },
  {
   "cell_type": "code",
   "execution_count": 1,
   "metadata": {},
   "outputs": [],
   "source": [
    "import numpy as np\n",
    "import matplotlib.pyplot as plt\n",
    "import pandas as pd\n",
    "\n",
    "%matplotlib inline"
   ]
  },
  {
   "cell_type": "code",
   "execution_count": 2,
   "metadata": {},
   "outputs": [],
   "source": [
    "data = pd.read_csv('data.csv')"
   ]
  },
  {
   "cell_type": "code",
   "execution_count": 3,
   "metadata": {},
   "outputs": [],
   "source": [
    "dataset = np.array(data)"
   ]
  },
  {
   "cell_type": "code",
   "execution_count": 4,
   "metadata": {},
   "outputs": [],
   "source": [
    "X = dataset[:, :-1]\n",
    "y = dataset[:, -1]"
   ]
  },
  {
   "cell_type": "markdown",
   "metadata": {},
   "source": [
    "### $$S_{\\omega}=\\Sigma_0 + \\Sigma_1= \\sum\\limits_{x\\in X_0}(x-\\mu_0)(x-\\mu_0)^T+\\sum\\limits_{x\\in X_1}(x-\\mu_1)(x-\\mu_1)^T$$ \n",
    "\n",
    "### $$\\omega = S_{\\omega}^{-1}(\\mu_0-\\mu_1)$$"
   ]
  },
  {
   "cell_type": "code",
   "execution_count": 71,
   "metadata": {},
   "outputs": [],
   "source": [
    "def LDA_fun(X, y):\n",
    "    \n",
    "    X_0 = X[ y == 0 ]\n",
    "    X_1 = X[ y == 1 ]\n",
    "    \n",
    "    ### calculate u0/1_mean\n",
    "    u0 = X_0.mean(0, keepdims = True)\n",
    "    u1 = X_1.mean(0, keepdims = True)\n",
    "    \n",
    "    ### calculate within-class scatter matrix and omega\n",
    "    Sigma_0 = np.dot((X_0 - u0).T, (X_0 - u0))\n",
    "    Sigma_1 = np.dot((X_1 - u1).T, (X_1 - u1))\n",
    "    Sw = Sigma_0 + Sigma_1\n",
    "    w = np.dot(np.linalg.inv(Sw), (u0 - u1).T).reshape(-1, 1)\n",
    "    \n",
    "    return Sigma_0, Sigma_1, Sw, w, u0, u1"
   ]
  },
  {
   "cell_type": "code",
   "execution_count": 72,
   "metadata": {},
   "outputs": [],
   "source": [
    "Sig0, Sig1, Sw, w, u0, u1 = LDA_fun(X, y)"
   ]
  },
  {
   "cell_type": "code",
   "execution_count": 46,
   "metadata": {},
   "outputs": [
    {
     "data": {
      "text/plain": [
       "array([[0.42019039, 0.02176328],\n",
       "       [0.02176328, 0.16425706]])"
      ]
     },
     "execution_count": 46,
     "metadata": {},
     "output_type": "execute_result"
    }
   ],
   "source": [
    "Sw"
   ]
  },
  {
   "cell_type": "code",
   "execution_count": 50,
   "metadata": {},
   "outputs": [
    {
     "data": {
      "text/plain": [
       "array([-0.14650982])"
      ]
     },
     "execution_count": 50,
     "metadata": {},
     "output_type": "execute_result"
    }
   ],
   "source": [
    "w[0]"
   ]
  },
  {
   "cell_type": "code",
   "execution_count": 83,
   "metadata": {},
   "outputs": [],
   "source": [
    "px = np.array([0.1, 0.8])\n",
    "py = (px*w[0] + w[1])"
   ]
  },
  {
   "cell_type": "code",
   "execution_count": 84,
   "metadata": {},
   "outputs": [
    {
     "data": {
      "text/plain": [
       "0.1542222222222222"
      ]
     },
     "execution_count": 84,
     "metadata": {},
     "output_type": "execute_result"
    }
   ],
   "source": [
    "u0[0][1]"
   ]
  },
  {
   "cell_type": "code",
   "execution_count": 91,
   "metadata": {},
   "outputs": [
    {
     "data": {
      "text/plain": [
       "array([[0.42019039, 0.02176328],\n",
       "       [0.02176328, 0.16425706]])"
      ]
     },
     "execution_count": 91,
     "metadata": {},
     "output_type": "execute_result"
    }
   ],
   "source": [
    "Sw"
   ]
  },
  {
   "cell_type": "code",
   "execution_count": 92,
   "metadata": {
    "scrolled": true
   },
   "outputs": [],
   "source": [
    "ss = np.linalg.inv(Sw)"
   ]
  },
  {
   "cell_type": "code",
   "execution_count": 93,
   "metadata": {},
   "outputs": [
    {
     "data": {
      "text/plain": [
       "array([[1., 0.],\n",
       "       [0., 1.]])"
      ]
     },
     "execution_count": 93,
     "metadata": {},
     "output_type": "execute_result"
    }
   ],
   "source": [
    "Sw.dot(ss)"
   ]
  },
  {
   "cell_type": "code",
   "execution_count": 96,
   "metadata": {},
   "outputs": [
    {
     "data": {
      "text/plain": [
       "<matplotlib.legend.Legend at 0x214b121b0f0>"
      ]
     },
     "execution_count": 96,
     "metadata": {},
     "output_type": "execute_result"
    },
    {
     "data": {
      "image/png": "[encoded data removed]",
      "text/plain": [
       "<matplotlib.figure.Figure at 0x214b10c5ba8>"
      ]
     },
     "metadata": {
      "needs_background": "light"
     },
     "output_type": "display_data"
    }
   ],
   "source": [
    "fgsize = 10,8\n",
    "figure, fg = plt.subplots(figsize = fgsize)\n",
    "font1 = {'family' : 'Times New Roman','weight' : 'normal','size'   : 15}\n",
    "plt.title('watermelon_3' + r'$\\alpha$', font1)\n",
    "plt.xlabel('density', font1)\n",
    "plt.ylabel('ratio', font1)\n",
    "plt.plot([0, 1],[0, -w[0]/w[1]], c = 'gray', label = 'y')\n",
    "plt.scatter(u0[0][0], u0[0][1], s = 75, c = 'k')\n",
    "plt.scatter(u1[0][0], u1[0][1], s = 75, c = 'y')\n",
    "plt.scatter(X[y == 0, 0], X[y == 0, 1], s = 50, c = 'r', label = 'bad')\n",
    "plt.scatter(X[y == 1, 0], X[y == 1, 1], s = 50, c = 'g', label = 'good')\n",
    "plt.legend(loc = 'upper right')"
   ]
  }
 ],
 "metadata": {
  "kernelspec": {
   "display_name": "Python 3",
   "language": "python",
   "name": "python3"
  },
  "language_info": {
   "codemirror_mode": {
    "name": "ipython",
    "version": 3
   },
   "file_extension": ".py",
   "mimetype": "text/x-python",
   "name": "python",
   "nbconvert_exporter": "python",
   "pygments_lexer": "ipython3",
   "version": "3.6.4"
  }
 },
 "nbformat": 4,
 "nbformat_minor": 2
}
