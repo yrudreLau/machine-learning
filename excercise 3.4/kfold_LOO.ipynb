{
 "cells": [
  {
   "cell_type": "markdown",
   "metadata": {},
   "source": [
    "## 10-fold cross validation vs. leave-one-out"
   ]
  },
  {
   "cell_type": "code",
   "execution_count": 1,
   "metadata": {},
   "outputs": [],
   "source": [
    "import numpy as np\n",
    "import pandas as pd\n",
    "from sklearn import linear_model\n",
    "from sklearn.model_selection import LeaveOneOut\n",
    "from sklearn.model_selection import cross_val_score\n",
    "import matplotlib.pyplot as plt\n",
    "\n",
    "%matplotlib inline"
   ]
  },
  {
   "cell_type": "markdown",
   "metadata": {},
   "source": [
    "### read dataset"
   ]
  },
  {
   "cell_type": "code",
   "execution_count": 2,
   "metadata": {},
   "outputs": [],
   "source": [
    "with open('Transfusion.txt', 'r') as fr:\n",
    "    dataset = fr.readlines()\n",
    "fr.close()\n",
    "\n",
    "dataset = dataset[1:]\n",
    "\n",
    "data = []\n",
    "for i in range(len(dataset)):\n",
    "    curLine = dataset[i].strip().split(\",\")\n",
    "    data.append(curLine)\n",
    "\n",
    "for i in range(len(data)):\n",
    "    for j in range(len(data[0])):\n",
    "        data[i][j] = float(data[i][j])"
   ]
  },
  {
   "cell_type": "code",
   "execution_count": 3,
   "metadata": {},
   "outputs": [],
   "source": [
    "data = np.array(data)"
   ]
  },
  {
   "cell_type": "code",
   "execution_count": 4,
   "metadata": {},
   "outputs": [],
   "source": [
    "### define X, y ###\n",
    "X = data[:, :-1]\n",
    "y = data[:, -1]"
   ]
  },
  {
   "cell_type": "code",
   "execution_count": 5,
   "metadata": {},
   "outputs": [],
   "source": [
    "# normalization\n",
    "X = (X - X.mean(0)) / X.std(0)"
   ]
  },
  {
   "cell_type": "code",
   "execution_count": 6,
   "metadata": {},
   "outputs": [],
   "source": [
    "X_posit = X[y == 1]\n",
    "X_neget = X[y == 0]"
   ]
  },
  {
   "cell_type": "code",
   "execution_count": 7,
   "metadata": {},
   "outputs": [],
   "source": [
    "### stratfied random sampling ###\n",
    "\n",
    "index_posit = np.arange(len(X_posit))\n",
    "index_neget = np.arange(len(X_neget))\n",
    "\n",
    "np.random.shuffle(index_posit)\n",
    "np.random.shuffle(index_neget)\n",
    "\n",
    "X_posit_shuffle = X_posit[index_posit]\n",
    "X_neget_shuffle = X_neget[index_neget]"
   ]
  },
  {
   "cell_type": "code",
   "execution_count": 8,
   "metadata": {},
   "outputs": [],
   "source": [
    "np.random.shuffle(index_posit)\n",
    "np.random.shuffle(index_neget)"
   ]
  },
  {
   "cell_type": "code",
   "execution_count": 9,
   "metadata": {},
   "outputs": [],
   "source": [
    "X_posit_shuffle = X_posit[index_posit]\n",
    "X_neget_shuffle = X_neget[index_neget]"
   ]
  },
  {
   "cell_type": "code",
   "execution_count": 8,
   "metadata": {},
   "outputs": [],
   "source": [
    "train_posit = X_posit_shuffle[:120]\n",
    "test_posit = X_posit_shuffle[120:]\n",
    "train_neget = X_neget_shuffle[:380]\n",
    "test_neget = X_neget_shuffle[380:]"
   ]
  },
  {
   "cell_type": "code",
   "execution_count": 9,
   "metadata": {},
   "outputs": [],
   "source": [
    "def tenFoldSplit(X_p, X_n, num_p, num_n):\n",
    "    '''\n",
    "    Generate 10-flod data. Each fold includes 38 positive samples and 12 negetive samples.\n",
    "    \n",
    "    '''\n",
    "    \n",
    "    train_folds = []\n",
    "    y = []\n",
    "    for i in range(10):\n",
    "        fold = []\n",
    "        if i <= 8 :            \n",
    "            fold += X_p[i*int(num_p):(i+1)*int(num_p)]\n",
    "            fold += X_n[i*int(num_n):(i+1)*int(num_n)]\n",
    "            train_folds.append(fold)\n",
    "            y.append([1]*num_p + [0]*num_n)\n",
    "        else:\n",
    "            fold += X_p[i*int(num_p):]\n",
    "            fold += X_n[i*int(num_n):]\n",
    "            train_folds.append(fold)\n",
    "            y.append([1]*num_p + [0]*num_n)\n",
    "        \n",
    "    return train_folds, y"
   ]
  },
  {
   "cell_type": "code",
   "execution_count": 10,
   "metadata": {},
   "outputs": [],
   "source": [
    "train_fold, train_y =tenFoldSplit(train_posit.tolist(), train_neget.tolist(), 12, 38)\n",
    "test_fold, test_y = tenFoldSplit(test_posit.tolist(), test_neget.tolist(), 6, 19)"
   ]
  },
  {
   "cell_type": "markdown",
   "metadata": {},
   "source": [
    "### Define logistic regression function ( Use Newton method )"
   ]
  },
  {
   "cell_type": "markdown",
   "metadata": {},
   "source": [
    "### $$\\beta^{t+1}=\\beta^t-\\big[ \\frac{\\partial^2\\mathcal{l}(\\beta)}{\\partial\\beta\\partial\\beta^T} \\big]^{-1}\\frac{\\partial\\mathcal{l}(\\beta)}{\\partial\\beta}$$"
   ]
  },
  {
   "cell_type": "code",
   "execution_count": 11,
   "metadata": {},
   "outputs": [],
   "source": [
    "def Log_Reg_fun(X, y):\n",
    "    '''\n",
    "    Given training dataset, return optimal parameters of logistic regression by newton method.\n",
    "    \n",
    "    '''\n",
    "    \n",
    "    m, n = X.shape\n",
    "    lr = 0.001\n",
    "    # initialization #\n",
    "    Beta = np.ones((1, n)) * 0.1\n",
    "    \n",
    "    z = X.dot(Beta.T)\n",
    "    \n",
    "    for i in range(150):\n",
    "        p1 = np.exp(z) / (1 + np.exp(z))\n",
    "        p = np.diag((p1 * (1 - p1)).reshape(m))\n",
    "        first_order = -np.sum(X * (y - p1), 0, keepdims = True)\n",
    "        \n",
    "        # update #\n",
    "        Beta -= first_order * lr\n",
    "        z = X.dot(Beta.T)\n",
    "        \n",
    "    l = np.sum(y * z + np.log(1 + np.exp(z)))\n",
    "    \n",
    "    return Beta"
   ]
  },
  {
   "cell_type": "code",
   "execution_count": 12,
   "metadata": {},
   "outputs": [],
   "source": [
    "### define testing function ###\n",
    "def testing(X, y, Beta):\n",
    "    '''\n",
    "    return error number of input X.\n",
    "    '''\n",
    "    \n",
    "    predicts = (X.dot(Beta.T) >= 0)\n",
    "#     print('pre: ', predicts)\n",
    "    error_num = np.sum(predicts != y)\n",
    "    \n",
    "    return error_num"
   ]
  },
  {
   "cell_type": "code",
   "execution_count": 13,
   "metadata": {},
   "outputs": [],
   "source": [
    "def tenFoldCrossValidation(folds, y):\n",
    "    '''\n",
    "    return error num of 10-fold cross validation.\n",
    "    folds: list with shape [10, 50, 4]\n",
    "    y: list with shape [10, 50]\n",
    "    Output:\n",
    "        error_nums\n",
    "    '''\n",
    "    \n",
    "    tenFolderror_num = 0\n",
    "    for i in range(10):\n",
    "        train_X = folds[:i] + folds[i+1:]\n",
    "        train_y = y[:i] + y[i+1:]\n",
    "        val_X = folds[i]\n",
    "#         print('shape X:', np.shape(val_X))\n",
    "        val_y = y[i]\n",
    "#         print('shape y:', np.shape(val_y))\n",
    "        train_X = np.array(train_X).reshape(-1, 4)\n",
    "        train_y = np.array(train_y).reshape([-1, 1])\n",
    "        val_X = np.array(val_X)\n",
    "#         print('shape X_:', np.shape(val_X))\n",
    "        val_y = np.array(val_y).reshape([-1, 1])\n",
    "#         print('shape y_:', np.shape(val_y))\n",
    "        beta = Log_Reg_fun(train_X, train_y)\n",
    "#         print('beta = ', beta)\n",
    "        error_num = testing(val_X, val_y, beta)\n",
    "#         print('error num = ', error_num)\n",
    "        tenFolderror_num += error_num\n",
    "        \n",
    "    return tenFolderror_num"
   ]
  },
  {
   "cell_type": "code",
   "execution_count": 14,
   "metadata": {},
   "outputs": [],
   "source": [
    "### define LeaveOneOut validation function ###\n",
    "def LOO(X, y):\n",
    "    \"\"\"\n",
    "    Return erroe num of LOO.\n",
    "    Input:\n",
    "        X: list with shape [500, 4].\n",
    "        y: list with shape [500]\n",
    "    Return:\n",
    "        loo_error_nums:\n",
    "    \"\"\"\n",
    "    loo_error_nums = 0\n",
    "    for i in range(100):\n",
    "        train_X = X[:i] + X[i+1:]\n",
    "        train_y = y[:i] + y[i+1:]\n",
    "        val_X = X[i]\n",
    "        val_y = y[i]\n",
    "        train_X = np.array(train_X).reshape(-1, 4)\n",
    "        train_y = np.array(train_y).reshape([-1, 1])\n",
    "        val_X = np.array(val_X)\n",
    "        val_y = np.array(val_y).reshape([-1, 1])\n",
    "        beta = Log_Reg_fun(train_X, train_y)\n",
    "        error_num = testing(val_X, val_y, beta)\n",
    "        loo_error_nums += error_num\n",
    "\n",
    "        \n",
    "    return loo_error_nums"
   ]
  },
  {
   "cell_type": "code",
   "execution_count": 15,
   "metadata": {},
   "outputs": [],
   "source": [
    "# LOO_train_X = np.concatenate((train_posit, train_neget))\n",
    "# LOO_train_y = np.concatenate((np.ones(len(train_posit)), np.zeros(len(train_neget))))\n",
    "LOO_train_X_r1 = train_posit[:24].tolist() + train_neget[:76].tolist()\n",
    "LOO_train_y_r1 = [1] * len(train_posit[:24]) + [0] * len(train_neget[:76])\n",
    "LOO_train_X_r2 = train_posit[24:24*2].tolist() + train_neget[76:76*2].tolist()\n",
    "LOO_train_y_r2 = LOO_train_y_r1\n",
    "LOO_train_X_r3 = train_posit[24*2:24*3].tolist() + train_neget[76*2:76*3].tolist()\n",
    "LOO_train_y_r3 = LOO_train_y_r1\n",
    "LOO_train_X_r4 = train_posit[24*3:24*4].tolist() + train_neget[76*3:76*4].tolist()\n",
    "LOO_train_y_r4 = LOO_train_y_r1\n",
    "LOO_train_X_r5 = train_posit[24*4:].tolist() + train_neget[76*4:].tolist()\n",
    "LOO_train_y_r5 = LOO_train_y_r1"
   ]
  },
  {
   "cell_type": "code",
   "execution_count": 16,
   "metadata": {},
   "outputs": [
    {
     "name": "stdout",
     "output_type": "stream",
     "text": [
      "39 53 44 41 44\n",
      "LeaveOneOut_errorNum: 221/500  =  0.442\n",
      "205\n",
      "tenFoldCrossValidation_errorNum: 205/500 =  0.41\n"
     ]
    }
   ],
   "source": [
    "if __name__ == \"__main__\":\n",
    "    \n",
    "    #10-fold cross validation\n",
    "    loo_error_num_r1 = LOO(LOO_train_X_r1, LOO_train_y_r1)\n",
    "    loo_error_num_r2 = LOO(LOO_train_X_r2, LOO_train_y_r2)\n",
    "    loo_error_num_r3 = LOO(LOO_train_X_r3, LOO_train_y_r3)\n",
    "    loo_error_num_r4 = LOO(LOO_train_X_r4, LOO_train_y_r4)\n",
    "    loo_error_num_r5 = LOO(LOO_train_X_r5, LOO_train_y_r5)\n",
    "    loo_error_num = loo_error_num_r1 + loo_error_num_r2 + loo_error_num_r3 + loo_error_num_r4 + loo_error_num_r5\n",
    "    \n",
    "    print(loo_error_num_r1, loo_error_num_r2, loo_error_num_r3, loo_error_num_r4, loo_error_num_r5)\n",
    "    print('LeaveOneOut_errorNum: {}/500 '.format(loo_error_num),'= ',round(loo_error_num/500, 4))\n",
    "    tenfold_error_num = tenFoldCrossValidation(train_fold, train_y)\n",
    "    print(tenfold_error_num)\n",
    "    print ('tenFoldCrossValidation_errorNum: {}/500'.format(tenfold_error_num),'= ',round(tenfold_error_num/500, 4))"
   ]
  },
  {
   "cell_type": "code",
   "execution_count": null,
   "metadata": {},
   "outputs": [],
   "source": []
  }
 ],
 "metadata": {
  "kernelspec": {
   "display_name": "Python 3",
   "language": "python",
   "name": "python3"
  },
  "language_info": {
   "codemirror_mode": {
    "name": "ipython",
    "version": 3
   },
   "file_extension": ".py",
   "mimetype": "text/x-python",
   "name": "python",
   "nbconvert_exporter": "python",
   "pygments_lexer": "ipython3",
   "version": "3.6.4"
  }
 },
 "nbformat": 4,
 "nbformat_minor": 2
}
