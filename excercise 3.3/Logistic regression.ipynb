{
 "cells": [
  {
   "cell_type": "markdown",
   "metadata": {},
   "source": [
    "## 编程实现对率回归\n",
    "## Use python code to realize Logistic regression"
   ]
  },
  {
   "cell_type": "code",
   "execution_count": 15,
   "metadata": {},
   "outputs": [],
   "source": [
    "import numpy as np\n",
    "import pandas as pd\n",
    "import matplotlib.pyplot as plt\n",
    "\n",
    "%matplotlib inline"
   ]
  },
  {
   "cell_type": "markdown",
   "metadata": {},
   "source": [
    "### 西瓜数据集3.0$\\alpha$\n",
    "### import data from csv file"
   ]
  },
  {
   "cell_type": "code",
   "execution_count": 6,
   "metadata": {},
   "outputs": [],
   "source": [
    "data = pd.read_csv('data.csv')"
   ]
  },
  {
   "cell_type": "code",
   "execution_count": 9,
   "metadata": {},
   "outputs": [],
   "source": [
    "dataset = np.array(data)"
   ]
  },
  {
   "cell_type": "markdown",
   "metadata": {},
   "source": [
    "#### 前两列为自变量，最后一列为因变量\n",
    "#### seperate data into different attributes"
   ]
  },
  {
   "cell_type": "code",
   "execution_count": 12,
   "metadata": {},
   "outputs": [],
   "source": [
    "x = dataset[:, :-1]\n",
    "y = dataset[:, -1]"
   ]
  },
  {
   "cell_type": "code",
   "execution_count": 35,
   "metadata": {},
   "outputs": [
    {
     "data": {
      "text/plain": [
       "<matplotlib.legend.Legend at 0x2458ad22e48>"
      ]
     },
     "execution_count": 35,
     "metadata": {},
     "output_type": "execute_result"
    },
    {
     "data": {
      "image/png": "[encoded data removed]",
      "text/plain": [
       "<matplotlib.figure.Figure at 0x2458a85f908>"
      ]
     },
     "metadata": {
      "needs_background": "light"
     },
     "output_type": "display_data"
    }
   ],
   "source": [
    "#### plot data ####\n",
    "fgsize = 10,8\n",
    "figure, fg = plt.subplots(figsize = fgsize)\n",
    "font1 = {'family' : 'Times New Roman','weight' : 'normal','size'   : 15}\n",
    "plt.title('watermelon_3' + r'$\\alpha$', font1)\n",
    "plt.xlabel('density', font1)\n",
    "plt.ylabel('ratio', font1)\n",
    "\n",
    "plt.scatter(x[y == 0, 0], x[y == 0, 1], s = 50, c = 'r', label = 'bad')\n",
    "plt.scatter(x[y == 1, 0], x[y == 1, 1], s = 50, c = 'g', label = 'good')\n",
    "plt.legend(loc = 'upper right')"
   ]
  },
  {
   "cell_type": "markdown",
   "metadata": {},
   "source": [
    "#### Sigmoid function:\n",
    "### $$y=\\frac{1}{1+e^{-(\\omega^Tx+b)}}$$\n",
    "#### minimize:\n",
    "### $$\\mathscr{l}(\\beta)=\\sum_{i = 1}^{m}\\big(-y_i\\beta^T\\hat{x_i}+ln(1+e^{\\beta^T\\hat{x_I}})\\big)$$"
   ]
  },
  {
   "cell_type": "markdown",
   "metadata": {},
   "source": [
    "### 考虑用梯度下降法求解上式最小值时对应的参数\n",
    "### Using follow fomula to calculate the gradient of equation above\n",
    "### $$\\frac{\\partial\\mathscr{l}(\\beta)}{\\partial\\beta}=-\\sum_{i=1}^{m}\\hat{x_i}\\big(y_i-p_1(\\hat{x_i};\\beta)\\big)$$\n",
    "### according to the Taylor expansion （appendix eq. B.16-B.17）\n",
    "### $$f(x+\\Delta x)\\simeq f(x)+\\Delta x^T\\triangledown f(x)$$\n",
    "### $$\\Delta x = -\\gamma \\triangledown f(x)$$ where $\\gamma$ is a small constant. We need to use eq. B.16 to calculate the gradient $\\triangledown f(\\beta)$, then use eq. B.17 to calculate new value of $\\Delta \\beta$."
   ]
  },
  {
   "cell_type": "code",
   "execution_count": 50,
   "metadata": {},
   "outputs": [],
   "source": [
    "### define likelihood function ###\n",
    "def likelihood_fun(X, Y, Beta):\n",
    "    '''\n",
    "    X: sample variables vector in eq.3.27\n",
    "    y: sample label in eq.3.27\n",
    "    beta: parameter vector in eq.3.27 \n",
    "    '''\n",
    "    \n",
    "    sum = 0\n",
    "    \n",
    "    for i in range(np.shape(a)[0]):\n",
    "        sum += -Y[i]*np.dot(Beta.T, X[i]) + np.log(1 + np.exp(np.dot(Beta.T, X[i])))\n",
    "    \n",
    "    return sum"
   ]
  },
  {
   "cell_type": "markdown",
   "metadata": {},
   "source": [
    "### 定步长梯度下降法（constan step gradient descent method)"
   ]
  },
  {
   "cell_type": "code",
   "execution_count": 79,
   "metadata": {},
   "outputs": [],
   "source": [
    "def gradDescent_const(X, Y):\n",
    "    '''\n",
    "    return: the best parameter estimate of eq.3.27\n",
    "    '''\n",
    "    \n",
    "    h = 0.1 #step length of iteration\n",
    "    iteration = 500\n",
    "    n = np.shape(X)[1]\n",
    "    w = []\n",
    "    b = []\n",
    "    \n",
    "    ### initialization ###\n",
    "    Beta = np.zeros(n)\n",
    "    delta_Beta = np.ones(n)*h\n",
    "    llh = 0\n",
    "    llh_temp = 0\n",
    "    \n",
    "    for i in range(iteration):\n",
    "        Beta_temp = Beta.copy()\n",
    "        \n",
    "        # partial derivative #\n",
    "        for j in range(n):\n",
    "            Beta[j] += delta_Beta[j]\n",
    "            llh_temp = likelihood_fun(X, Y, Beta)\n",
    "            delta_Beta[j] = - h * (llh_temp - llh) / delta_Beta[j]\n",
    "            Beta[j] = Beta_temp[j]\n",
    "            \n",
    "        Beta += delta_Beta\n",
    "        w.append(Beta[0])\n",
    "        b.append(Beta[1])\n",
    "        llh = likelihood_fun(X, Y, Beta)\n",
    "        \n",
    "    return Beta, w, b"
   ]
  },
  {
   "cell_type": "code",
   "execution_count": 75,
   "metadata": {},
   "outputs": [
    {
     "data": {
      "text/plain": [
       "array([6.67590025, 1.58147278])"
      ]
     },
     "execution_count": 75,
     "metadata": {},
     "output_type": "execute_result"
    }
   ],
   "source": [
    "gradDescent_const(x, y)"
   ]
  },
  {
   "cell_type": "markdown",
   "metadata": {},
   "source": [
    "### 随机梯度下降法 (stochastic gradient descent method)\n",
    "#### 核心思想：增量学习 (incremental learning), use a new sample to update regression coefficient"
   ]
  },
  {
   "cell_type": "code",
   "execution_count": 82,
   "metadata": {},
   "outputs": [],
   "source": [
    "def gradDescent_stoc(X, Y):\n",
    "    \n",
    "    ### initialization ###\n",
    "    m, n = np.shape(X)\n",
    "    h = 0.5\n",
    "    Beta = np.zeros(n)\n",
    "    w = []\n",
    "    b = []\n",
    "    delta_Beta = np.ones(n) * h\n",
    "    llh = 0\n",
    "    llh_temp = 0\n",
    "    \n",
    "    for i in range(m):\n",
    "        Beta_temp = Beta.copy() # for partial derivative\n",
    "        \n",
    "        for j in range(n):\n",
    "            h = 0.5 * 1 / (1 + i + j) # update step length of iterator\n",
    "            Beta[j] += delta_Beta[j]\n",
    "            llh_temp = -Y[i]*np.dot(Beta.T, X[i]) + np.log(1 + np.exp(np.dot(Beta.T, X[i])))\n",
    "            delta_Beta[j] = - h * (llh_temp - llh) / delta_Beta[j]\n",
    "            Beta[j] = Beta_temp[j]\n",
    "            \n",
    "        Beta += delta_Beta\n",
    "        w.append(Beta[0])\n",
    "        b.append(Beta[1])\n",
    "        llh = -Y[i]*np.dot(Beta.T, X[i]) + np.log(1 + np.exp(np.dot(Beta.T, X[i])))\n",
    "    \n",
    "    return Beta, w, b"
   ]
  },
  {
   "cell_type": "code",
   "execution_count": 81,
   "metadata": {},
   "outputs": [],
   "source": [
    "const = gradDescent_const(x, y)"
   ]
  },
  {
   "cell_type": "code",
   "execution_count": 83,
   "metadata": {},
   "outputs": [],
   "source": [
    "stoc = gradDescent_stoc(x, y)"
   ]
  },
  {
   "cell_type": "code",
   "execution_count": 97,
   "metadata": {},
   "outputs": [
    {
     "data": {
      "text/plain": [
       "[<matplotlib.lines.Line2D at 0x2458f6151d0>]"
      ]
     },
     "execution_count": 97,
     "metadata": {},
     "output_type": "execute_result"
    },
    {
     "data": {
      "image/png": "[encoded data removed]",
      "text/plain": [
       "<matplotlib.figure.Figure at 0x2458f569978>"
      ]
     },
     "metadata": {
      "needs_background": "light"
     },
     "output_type": "display_data"
    }
   ],
   "source": [
    "figure, axes = plt.subplots(4, 1, figsize = (18,10))\n",
    "\n",
    "axes[0].set_ylabel(r'$\\omega_c$', fontsize = 20)\n",
    "axes[0].plot(const[1])\n",
    "axes[1].set_ylabel(r'$b_c$', fontsize = 20)\n",
    "axes[1].plot(const[-1])\n",
    "axes[2].set_ylabel(r'$\\omega_s$', fontsize = 20)\n",
    "axes[2].plot(stoc[1])\n",
    "font2 = {'family' : 'Times New Roman','weight' : 'normal','size'   : 20}\n",
    "axes[3].set_xlabel('iter', font2)\n",
    "axes[3].set_ylabel(r'$b_s$', fontsize = 20)\n",
    "axes[3].plot(stoc[-1])"
   ]
  },
  {
   "cell_type": "markdown",
   "metadata": {},
   "source": [
    "### 采用sklearn逻辑回归库函数直接拟合\n",
    "### using sklearn lib for logistic regression"
   ]
  },
  {
   "cell_type": "code",
   "execution_count": 98,
   "metadata": {},
   "outputs": [],
   "source": [
    "from sklearn import model_selection\n",
    "from sklearn.linear_model import LogisticRegression\n",
    "from sklearn import metrics"
   ]
  },
  {
   "cell_type": "code",
   "execution_count": 100,
   "metadata": {},
   "outputs": [
    {
     "name": "stdout",
     "output_type": "stream",
     "text": [
      "[[3 2]\n",
      " [1 3]]\n",
      "             precision    recall  f1-score   support\n",
      "\n",
      "        0.0       0.75      0.60      0.67         5\n",
      "        1.0       0.60      0.75      0.67         4\n",
      "\n",
      "avg / total       0.68      0.67      0.67         9\n",
      "\n"
     ]
    }
   ],
   "source": [
    "### generalization of test and train set ###\n",
    "X_train, X_test, Y_train, Y_test = model_selection.train_test_split(x, y, test_size = 0.5, random_state =0)\n",
    "\n",
    "### model training ###\n",
    "Log_Reg = LogisticRegression()\n",
    "Log_Reg.fit(X_train, Y_train)\n",
    "\n",
    "### model testing ###\n",
    "y_pre = Log_Reg.predict(X_test)\n",
    "\n",
    "### summarize the accuracy of fitting\n",
    "print(metrics.confusion_matrix(Y_test, y_pre))\n",
    "print(metrics.classification_report(Y_test, y_pre))"
   ]
  }
 ],
 "metadata": {
  "kernelspec": {
   "display_name": "Python 3",
   "language": "python",
   "name": "python3"
  },
  "language_info": {
   "codemirror_mode": {
    "name": "ipython",
    "version": 3
   },
   "file_extension": ".py",
   "mimetype": "text/x-python",
   "name": "python",
   "nbconvert_exporter": "python",
   "pygments_lexer": "ipython3",
   "version": "3.6.4"
  }
 },
 "nbformat": 4,
 "nbformat_minor": 2
}
